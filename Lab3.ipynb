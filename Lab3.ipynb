{
 "cells": [
  {
   "cell_type": "markdown",
   "id": "bddd7446",
   "metadata": {},
   "source": [
    "# Laboratorio 3: MLflow y Feast"
   ]
  },
  {
   "cell_type": "markdown",
   "id": "be551a9c",
   "metadata": {},
   "source": [
    "## Ejercicio 1 - Configuración del Entorno"
   ]
  },
  {
   "cell_type": "markdown",
   "id": "7cdc3827",
   "metadata": {},
   "source": [
    "### 1.1 Instalación de Dependencias"
   ]
  },
  {
   "cell_type": "code",
   "execution_count": 1,
   "id": "e2834c89",
   "metadata": {},
   "outputs": [
    {
     "name": "stdout",
     "output_type": "stream",
     "text": [
      "Dependencias instaladas correctamente.\n"
     ]
    }
   ],
   "source": [
    "# Se define un entorno de Python e instala las dependencias necesarias\n",
    "# desde un archivo requirements.txt ubicado en el mismo directorio que este script.\n",
    "#%pip install -r requirements.txt\n",
    "print(\"Dependencias instaladas correctamente.\")"
   ]
  },
  {
   "cell_type": "markdown",
   "id": "3738428c",
   "metadata": {},
   "source": [
    "### 1.2 Verificación de Instalación"
   ]
  },
  {
   "cell_type": "code",
   "execution_count": 2,
   "id": "1c37af98",
   "metadata": {},
   "outputs": [
    {
     "name": "stdout",
     "output_type": "stream",
     "text": [
      "Todas las dependencias se han instalado correctamente.\n",
      "MLflow version: 3.5.0\n",
      "Feast version: 0.47.0\n"
     ]
    }
   ],
   "source": [
    "try:\n",
    "    # Importar las dependencias para verificar la instalación\n",
    "    import numpy as np\n",
    "    import pandas as pd\n",
    "    import sklearn\n",
    "    import mlflow\n",
    "    import feast\n",
    "    import matplotlib.pyplot as plt\n",
    "    import seaborn as sns\n",
    "\n",
    "    print(\"Todas las dependencias se han instalado correctamente.\")\n",
    "\n",
    "    # Versiones de las dependencias\n",
    "    print(f\"MLflow version: {mlflow.__version__}\")\n",
    "    print(f\"Feast version: {feast.__version__}\")\n",
    "\n",
    "except ImportError as e:\n",
    "    print(f\"Error al importar una dependencia: {e}\")"
   ]
  },
  {
   "cell_type": "markdown",
   "id": "9b636f87",
   "metadata": {},
   "source": [
    "## Ejercicio 2 - Carga y Exploración de Datos"
   ]
  },
  {
   "cell_type": "markdown",
   "id": "279a3f59",
   "metadata": {},
   "source": [
    "### 2.1 Carga del Dataset"
   ]
  },
  {
   "cell_type": "code",
   "execution_count": 3,
   "id": "ac621990",
   "metadata": {},
   "outputs": [
    {
     "name": "stdout",
     "output_type": "stream",
     "text": [
      "Primeras filas del DataFrame:\n"
     ]
    },
    {
     "data": {
      "text/html": [
       "<div>\n",
       "<style scoped>\n",
       "    .dataframe tbody tr th:only-of-type {\n",
       "        vertical-align: middle;\n",
       "    }\n",
       "\n",
       "    .dataframe tbody tr th {\n",
       "        vertical-align: top;\n",
       "    }\n",
       "\n",
       "    .dataframe thead th {\n",
       "        text-align: right;\n",
       "    }\n",
       "</style>\n",
       "<table border=\"1\" class=\"dataframe\">\n",
       "  <thead>\n",
       "    <tr style=\"text-align: right;\">\n",
       "      <th></th>\n",
       "      <th>ingreso_medio</th>\n",
       "      <th>edad_vivienda</th>\n",
       "      <th>habitaciones</th>\n",
       "      <th>dormitorios</th>\n",
       "      <th>poblacion</th>\n",
       "      <th>ocupantes</th>\n",
       "      <th>latitud</th>\n",
       "      <th>longitud</th>\n",
       "      <th>valor_medio</th>\n",
       "    </tr>\n",
       "  </thead>\n",
       "  <tbody>\n",
       "    <tr>\n",
       "      <th>0</th>\n",
       "      <td>8.3252</td>\n",
       "      <td>41.0</td>\n",
       "      <td>6.984127</td>\n",
       "      <td>1.023810</td>\n",
       "      <td>322.0</td>\n",
       "      <td>2.555556</td>\n",
       "      <td>37.88</td>\n",
       "      <td>-122.23</td>\n",
       "      <td>4.526</td>\n",
       "    </tr>\n",
       "    <tr>\n",
       "      <th>1</th>\n",
       "      <td>8.3014</td>\n",
       "      <td>21.0</td>\n",
       "      <td>6.238137</td>\n",
       "      <td>0.971880</td>\n",
       "      <td>2401.0</td>\n",
       "      <td>2.109842</td>\n",
       "      <td>37.86</td>\n",
       "      <td>-122.22</td>\n",
       "      <td>3.585</td>\n",
       "    </tr>\n",
       "    <tr>\n",
       "      <th>2</th>\n",
       "      <td>7.2574</td>\n",
       "      <td>52.0</td>\n",
       "      <td>8.288136</td>\n",
       "      <td>1.073446</td>\n",
       "      <td>496.0</td>\n",
       "      <td>2.802260</td>\n",
       "      <td>37.85</td>\n",
       "      <td>-122.24</td>\n",
       "      <td>3.521</td>\n",
       "    </tr>\n",
       "    <tr>\n",
       "      <th>3</th>\n",
       "      <td>5.6431</td>\n",
       "      <td>52.0</td>\n",
       "      <td>5.817352</td>\n",
       "      <td>1.073059</td>\n",
       "      <td>558.0</td>\n",
       "      <td>2.547945</td>\n",
       "      <td>37.85</td>\n",
       "      <td>-122.25</td>\n",
       "      <td>3.413</td>\n",
       "    </tr>\n",
       "    <tr>\n",
       "      <th>4</th>\n",
       "      <td>3.8462</td>\n",
       "      <td>52.0</td>\n",
       "      <td>6.281853</td>\n",
       "      <td>1.081081</td>\n",
       "      <td>565.0</td>\n",
       "      <td>2.181467</td>\n",
       "      <td>37.85</td>\n",
       "      <td>-122.25</td>\n",
       "      <td>3.422</td>\n",
       "    </tr>\n",
       "  </tbody>\n",
       "</table>\n",
       "</div>"
      ],
      "text/plain": [
       "   ingreso_medio  edad_vivienda  habitaciones  dormitorios  poblacion  \\\n",
       "0         8.3252           41.0      6.984127     1.023810      322.0   \n",
       "1         8.3014           21.0      6.238137     0.971880     2401.0   \n",
       "2         7.2574           52.0      8.288136     1.073446      496.0   \n",
       "3         5.6431           52.0      5.817352     1.073059      558.0   \n",
       "4         3.8462           52.0      6.281853     1.081081      565.0   \n",
       "\n",
       "   ocupantes  latitud  longitud  valor_medio  \n",
       "0   2.555556    37.88   -122.23        4.526  \n",
       "1   2.109842    37.86   -122.22        3.585  \n",
       "2   2.802260    37.85   -122.24        3.521  \n",
       "3   2.547945    37.85   -122.25        3.413  \n",
       "4   2.181467    37.85   -122.25        3.422  "
      ]
     },
     "metadata": {},
     "output_type": "display_data"
    },
    {
     "name": "stdout",
     "output_type": "stream",
     "text": [
      "\n",
      "--- Información del DataFrame ---\n",
      "- Cantidad de variables: 9\n",
      "- Cantidad de registros: 20640\n",
      "\n",
      "--- Descripción básica de los datos ---\n",
      "<class 'pandas.core.frame.DataFrame'>\n",
      "RangeIndex: 20640 entries, 0 to 20639\n",
      "Data columns (total 9 columns):\n",
      " #   Column         Non-Null Count  Dtype  \n",
      "---  ------         --------------  -----  \n",
      " 0   ingreso_medio  20640 non-null  float64\n",
      " 1   edad_vivienda  20640 non-null  float64\n",
      " 2   habitaciones   20640 non-null  float64\n",
      " 3   dormitorios    20640 non-null  float64\n",
      " 4   poblacion      20640 non-null  float64\n",
      " 5   ocupantes      20640 non-null  float64\n",
      " 6   latitud        20640 non-null  float64\n",
      " 7   longitud       20640 non-null  float64\n",
      " 8   valor_medio    20640 non-null  float64\n",
      "dtypes: float64(9)\n",
      "memory usage: 1.4 MB\n"
     ]
    }
   ],
   "source": [
    "from sklearn.datasets import fetch_california_housing\n",
    "\n",
    "# Cargar el dataset de California Housing\n",
    "cal = fetch_california_housing(as_frame=True)\n",
    "df = cal.frame.copy()\n",
    "\n",
    "# Renombrar las columnas a nombres apropiados en español\n",
    "df.rename(columns={\n",
    "    \"MedInc\": \"ingreso_medio\",\n",
    "    \"HouseAge\": \"edad_vivienda\",\n",
    "    \"AveRooms\": \"habitaciones\",\n",
    "    \"AveBedrms\": \"dormitorios\",\n",
    "    \"Population\": \"poblacion\",\n",
    "    \"AveOccup\": \"ocupantes\",\n",
    "    \"Latitude\": \"latitud\",\n",
    "    \"Longitude\": \"longitud\",\n",
    "    \"MedHouseVal\": \"valor_medio\"\n",
    "}, inplace=True)\n",
    "\n",
    "# Mostrar las primeras filas del DataFrame\n",
    "print(\"Primeras filas del DataFrame:\")\n",
    "display(df.head())\n",
    "# Mostrar información básica del DataFrame\n",
    "print(\"\\n--- Información del DataFrame ---\")\n",
    "print(f\"- Cantidad de variables: {df.shape[1]}\")\n",
    "print(f\"- Cantidad de registros: {df.shape[0]}\")\n",
    "print(\"\\n--- Descripción básica de los datos ---\")\n",
    "df.info()"
   ]
  }
 ],
 "metadata": {
  "kernelspec": {
   "display_name": "mlops-lab3",
   "language": "python",
   "name": "python3"
  },
  "language_info": {
   "codemirror_mode": {
    "name": "ipython",
    "version": 3
   },
   "file_extension": ".py",
   "mimetype": "text/x-python",
   "name": "python",
   "nbconvert_exporter": "python",
   "pygments_lexer": "ipython3",
   "version": "3.12.12"
  }
 },
 "nbformat": 4,
 "nbformat_minor": 5
}
